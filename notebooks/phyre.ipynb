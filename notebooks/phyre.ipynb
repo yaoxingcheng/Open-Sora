{
 "cells": [
  {
   "cell_type": "code",
   "execution_count": 1,
   "metadata": {},
   "outputs": [],
   "source": [
    "import math\n",
    "import random\n",
    "\n",
    "import matplotlib.pyplot as plt\n",
    "import numpy as np\n",
    "from tqdm import tqdm_notebook\n",
    "\n",
    "import phyre\n",
    "random.seed(0)"
   ]
  },
  {
   "cell_type": "code",
   "execution_count": 58,
   "metadata": {},
   "outputs": [
    {
     "name": "stdout",
     "output_type": "stream",
     "text": [
      "All eval setups: ball_cross_template ball_within_template two_balls_cross_template two_balls_within_template ball_phyre_to_tools\n"
     ]
    }
   ],
   "source": [
    "print('All eval setups:', *phyre.MAIN_EVAL_SETUPS)\n",
    "eval_setup = 'two_balls_cross_template'"
   ]
  },
  {
   "cell_type": "code",
   "execution_count": 59,
   "metadata": {},
   "outputs": [
    {
     "name": "stdout",
     "output_type": "stream",
     "text": [
      "Size of resulting splits:\n",
      " train: 1600 \n",
      " dev: 400 \n",
      " test: 500\n"
     ]
    }
   ],
   "source": [
    "fold_id = 0  # For simplicity, we will just use one fold for evaluation.\n",
    "train_tasks, dev_tasks, test_tasks = phyre.get_fold(eval_setup, fold_id)\n",
    "print('Size of resulting splits:\\n train:', len(train_tasks), '\\n dev:',\n",
    "      len(dev_tasks), '\\n test:', len(test_tasks))"
   ]
  },
  {
   "cell_type": "code",
   "execution_count": 60,
   "metadata": {},
   "outputs": [
    {
     "data": {
      "text/plain": [
       "'00102:020'"
      ]
     },
     "execution_count": 60,
     "metadata": {},
     "output_type": "execute_result"
    }
   ],
   "source": [
    "train_tasks[120]"
   ]
  },
  {
   "cell_type": "code",
   "execution_count": 61,
   "metadata": {},
   "outputs": [
    {
     "name": "stdout",
     "output_type": "stream",
     "text": [
      "Action tier for two_balls_cross_template is two_balls\n"
     ]
    }
   ],
   "source": [
    "action_tier = phyre.eval_setup_to_action_tier(eval_setup)\n",
    "print('Action tier for', eval_setup, 'is', action_tier)"
   ]
  },
  {
   "cell_type": "code",
   "execution_count": 62,
   "metadata": {},
   "outputs": [],
   "source": [
    "tasks = dev_tasks[:400]\n",
    "\n",
    "# Create the simulator from the tasks and tier.\n",
    "simulator = phyre.initialize_simulator(tasks, action_tier)"
   ]
  },
  {
   "cell_type": "code",
   "execution_count": 63,
   "metadata": {},
   "outputs": [
    {
     "name": "stdout",
     "output_type": "stream",
     "text": [
      "Initial scene shape=(256, 256) dtype=int64\n"
     ]
    },
    {
     "data": {
      "image/png": "[encoded data removed]",
      "text/plain": [
       "<Figure size 640x480 with 1 Axes>"
      ]
     },
     "metadata": {},
     "output_type": "display_data"
    }
   ],
   "source": [
    "task_index = 121  # Note, this is a integer index of task within simulator.task_ids.\n",
    "task_id = simulator.task_ids[task_index]\n",
    "initial_scene = simulator.initial_scenes[task_index]\n",
    "print('Initial scene shape=%s dtype=%s' % (initial_scene.shape, initial_scene.dtype))\n",
    "plt.imshow(phyre.observations_to_float_rgb(initial_scene))\n",
    "plt.title(f'Task {task_id}');"
   ]
  },
  {
   "cell_type": "markdown",
   "metadata": {},
   "source": [
    "### Initial Vectorized Objects\n",
    "In addition to the pixelized initial scenes, one can also get access to a vectorized state of each scene object in it's initial posiition. Each task is represented as a FeaturizedObjects, which contains features represented as a 1 x (NUM_SCENE_OBJECTS + TASK_TIER_NUM_USER_INPUTS) x 14 np.ndarray. The features of the object, in order are:\n",
    "\n",
    "0. x in pixels of center of mass divided by SCENE_WIDTH\n",
    "1. y in pixels of center of mass divided by SCENE_HEIGHT\n",
    "2. angle of the object between 0 and 2pi divided by 2pi\n",
    "3. diameter in pixels of object divided by SCENE_WIDTH\n",
    "4. - 8. One hot encoding of the object shape, according to order: ball, bar, jar, standing sticks\n",
    "9. - 14. One hot encoding of object color, according to order: red, green, blue, purple, gray, black\n",
    "As the scene is vectorized into prior to user input, the rows represent only scene objects."
   ]
  },
  {
   "cell_type": "code",
   "execution_count": 64,
   "metadata": {},
   "outputs": [
    {
     "name": "stdout",
     "output_type": "stream",
     "text": [
      "Initial featurized objects shape=(1, 7, 14) dtype=float32\n",
      "[[[ 0.35   0.61   0.     0.102  0.     1.     0.     0.     0.     0.\n",
      "    0.     0.     0.     1.   ]\n",
      "  [ 0.85   0.51   0.     0.102  0.     1.     0.     0.     0.     0.\n",
      "    0.     0.     0.     1.   ]\n",
      "  [ 0.35   0.669  0.     0.098  1.     0.     0.     0.     0.     1.\n",
      "    0.     0.     0.     0.   ]\n",
      "  [ 0.85   0.569  0.     0.098  1.     0.     0.     0.     0.     0.\n",
      "    1.     0.     0.     0.   ]\n",
      "  [ 0.6    0.75   0.25   0.5    0.     1.     0.     0.     0.     0.\n",
      "    0.     0.     0.     1.   ]\n",
      "  [-0.141  0.025  0.014  1.     0.     1.     0.     0.     0.     0.\n",
      "    0.     0.     0.     1.   ]\n",
      "  [ 0.841  0.025  0.486  1.     0.     1.     0.     0.     0.     0.\n",
      "    0.     0.     0.     1.   ]]]\n"
     ]
    }
   ],
   "source": [
    "# Let's see the features of the initial featurized objects for the scene visualized above\n",
    "initial_featurized_objects = simulator.initial_featurized_objects[task_index]\n",
    "print('Initial featurized objects shape=%s dtype=%s' % (initial_featurized_objects.features.shape, initial_featurized_objects.features.dtype))\n",
    "np.set_printoptions(precision=3)\n",
    "print(initial_featurized_objects.features)"
   ]
  },
  {
   "cell_type": "markdown",
   "metadata": {},
   "source": [
    "The action space is always a unit cube, but the dimension depends on the action tier. For the ball tier, the dimensionality of the action space is 3, corresponding to the (x,y) position of the ball and its radius r. For two ball tiers the dimension is 6."
   ]
  },
  {
   "cell_type": "code",
   "execution_count": 65,
   "metadata": {},
   "outputs": [
    {
     "name": "stdout",
     "output_type": "stream",
     "text": [
      "Dimension of the action space: 6\n",
      "A random action: [4.170e-01 7.203e-01 1.144e-04 3.023e-01 1.468e-01 9.234e-02]\n"
     ]
    }
   ],
   "source": [
    "print('Dimension of the action space:', simulator.action_space_dim)\n",
    "# We can also use the simulator to sample a fixed set of random actions from the action space using build_discrete_action_space. The function samples actions uniformly from the action cube skipping invalid ones. The set is guaranteed to be deterministic.\n",
    "actions = simulator.build_discrete_action_space(max_actions=100)\n",
    "print('A random action:', actions[0])"
   ]
  },
  {
   "cell_type": "code",
   "execution_count": 66,
   "metadata": {},
   "outputs": [
    {
     "name": "stdout",
     "output_type": "stream",
     "text": [
      "Action solves task: SimulationStatus.SOLVED\n",
      "Action does not solve task: SimulationStatus.NOT_SOLVED\n",
      "Action is an invalid input on task (e.g., occludes a task object): SimulationStatus.INVALID_INPUT\n",
      "\n",
      "Result of taking action [0.766 0.342 0.846 0.429 0.824 0.626] on task 00110:021 is: SimulationStatus.NOT_SOLVED\n",
      "Does [0.766 0.342 0.846 0.429 0.824 0.626] solve task 00110:021 ? False\n",
      "Is [0.766 0.342 0.846 0.429 0.824 0.626] an invalid action on task 00110:021 ? False\n"
     ]
    }
   ],
   "source": [
    "task_index = 121  # The simulator takes an index into simulator.task_ids.\n",
    "action = random.choice(actions)\n",
    "# Set need_images=False and need_featurized_objects=False to speed up simulation, when only statuses are needed.\n",
    "simulation = simulator.simulate_action(task_index, action, need_images=True, need_featurized_objects=True, stride=3)\n",
    "\n",
    "# Three statuses could be returned.\n",
    "print('Action solves task:', phyre.SimulationStatus.SOLVED)\n",
    "print('Action does not solve task:', phyre.SimulationStatus.NOT_SOLVED)\n",
    "print('Action is an invalid input on task (e.g., occludes a task object):',\n",
    "      phyre.SimulationStatus.INVALID_INPUT)\n",
    "# May call is_* methods on the status to check the status.\n",
    "print()\n",
    "print('Result of taking action', action, 'on task', tasks[task_index], 'is:',\n",
    "      simulation.status)\n",
    "print('Does', action, 'solve task', tasks[task_index], '?', simulation.status.is_solved())\n",
    "print('Is', action, 'an invalid action on task', tasks[task_index], '?',\n",
    "      simulation.status.is_invalid())"
   ]
  },
  {
   "cell_type": "code",
   "execution_count": 67,
   "metadata": {},
   "outputs": [
    {
     "name": "stdout",
     "output_type": "stream",
     "text": [
      "Number of observations returned by simulator: 334\n",
      "default stride:  60\n",
      "default max steps:  1000\n"
     ]
    }
   ],
   "source": [
    "print('Number of observations returned by simulator:', len(simulation.images))\n",
    "print('default stride: ', phyre.simulator.DEFAULT_STRIDE)\n",
    "print('default max steps: ', phyre.simulator.DEFAULT_MAX_STEPS)"
   ]
  },
  {
   "cell_type": "code",
   "execution_count": 68,
   "metadata": {},
   "outputs": [
    {
     "data": {
      "text/plain": [
       "array([[[255, 255, 255],\n",
       "        [255, 255, 255],\n",
       "        [255, 255, 255],\n",
       "        ...,\n",
       "        [255, 255, 255],\n",
       "        [255, 255, 255],\n",
       "        [255, 255, 255]],\n",
       "\n",
       "       [[255, 255, 255],\n",
       "        [255, 255, 255],\n",
       "        [255, 255, 255],\n",
       "        ...,\n",
       "        [255, 255, 255],\n",
       "        [255, 255, 255],\n",
       "        [255, 255, 255]],\n",
       "\n",
       "       [[255, 255, 255],\n",
       "        [255, 255, 255],\n",
       "        [255, 255, 255],\n",
       "        ...,\n",
       "        [255, 255, 255],\n",
       "        [255, 255, 255],\n",
       "        [255, 255, 255]],\n",
       "\n",
       "       ...,\n",
       "\n",
       "       [[255, 255, 255],\n",
       "        [255, 255, 255],\n",
       "        [255, 255, 255],\n",
       "        ...,\n",
       "        [  0,   0,   0],\n",
       "        [  0,   0,   0],\n",
       "        [  0,   0,   0]],\n",
       "\n",
       "       [[255, 255, 255],\n",
       "        [255, 255, 255],\n",
       "        [255, 255, 255],\n",
       "        ...,\n",
       "        [  0,   0,   0],\n",
       "        [  0,   0,   0],\n",
       "        [  0,   0,   0]],\n",
       "\n",
       "       [[255, 255, 255],\n",
       "        [255, 255, 255],\n",
       "        [255, 255, 255],\n",
       "        ...,\n",
       "        [  0,   0,   0],\n",
       "        [  0,   0,   0],\n",
       "        [  0,   0,   0]]], dtype=uint8)"
      ]
     },
     "execution_count": 68,
     "metadata": {},
     "output_type": "execute_result"
    }
   ],
   "source": [
    "phyre.observations_to_uint8_rgb(simulation.images[1])"
   ]
  },
  {
   "cell_type": "code",
   "execution_count": 69,
   "metadata": {},
   "outputs": [
    {
     "name": "stdout",
     "output_type": "stream",
     "text": [
      "total frames after processing: 225\n"
     ]
    }
   ],
   "source": [
    "import imageio\n",
    "import copy\n",
    "prev_image:np.array = copy.deepcopy(simulation.images[0])\n",
    "frames:list = [phyre.observations_to_uint8_rgb(simulation.images[0])]\n",
    "MAX_SAME_FRAME = 5\n",
    "same_frame = 0\n",
    "\n",
    "for i, image in enumerate(simulation.images[1:]):\n",
    "    if np.absolute(image - prev_image).sum() < 0.1:\n",
    "        same_frame += 1\n",
    "        if same_frame > MAX_SAME_FRAME:\n",
    "            break\n",
    "    else:\n",
    "        same_frame = 0\n",
    "    prev_image = copy.deepcopy(image)\n",
    "    frames.append(phyre.observations_to_uint8_rgb(image))\n",
    "frames = np.stack(frames, axis=0)\n",
    "print(f\"total frames after processing: {frames.shape[0]}\")"
   ]
  },
  {
   "cell_type": "code",
   "execution_count": 70,
   "metadata": {},
   "outputs": [],
   "source": [
    "imageio.mimwrite('temp_video.mp4', frames, fps=20)"
   ]
  },
  {
   "cell_type": "code",
   "execution_count": 79,
   "metadata": {},
   "outputs": [
    {
     "data": {
      "text/plain": [
       "[[0, 1, 2], [3, 4, 5], [6, 7, 8], [9, 10]]"
      ]
     },
     "execution_count": 79,
     "metadata": {},
     "output_type": "execute_result"
    }
   ],
   "source": [
    "td = list(range(11))\n",
    "\n",
    "[ td[id:id + 3] for id in range(0, 11, 3)]"
   ]
  },
  {
   "cell_type": "code",
   "execution_count": null,
   "metadata": {},
   "outputs": [],
   "source": []
  }
 ],
 "metadata": {
  "kernelspec": {
   "display_name": "vidgenpy39",
   "language": "python",
   "name": "python3"
  },
  "language_info": {
   "codemirror_mode": {
    "name": "ipython",
    "version": 3
   },
   "file_extension": ".py",
   "mimetype": "text/x-python",
   "name": "python",
   "nbconvert_exporter": "python",
   "pygments_lexer": "ipython3",
   "version": "3.7.1"
  }
 },
 "nbformat": 4,
 "nbformat_minor": 2
}
